{
 "cells": [
  {
   "cell_type": "markdown",
   "id": "c33a9146",
   "metadata": {},
   "source": [
    "# Instacart Exploratory Data Analysis: Uncovering Customer Behavior\n",
    "\n",
    "This notebook performs an in-depth exploratory data analysis (EDA) on the Instacart dataset. The goal is to uncover actionable insights into customer purchasing habits, product popularity, and temporal trends. By understanding these patterns, we can answer key business questions and inform strategic decisions in marketing, inventory management, and customer engagement.\n",
    "\n",
    "### Key Business Questions:\n",
    "\n",
    "1.  **What are the general ordering patterns?**\n",
    "    *   When do customers prefer to place their orders (day of the week, time of day)?\n",
    "    *   How frequently do customers reorder?\n",
    "2.  **Which products and categories are most popular?**\n",
    "    *   Which departments and products are the top sellers?\n",
    "    *   Which products have the highest reorder rates?\n",
    "    *   What are the most common items in a customer's first-ever order?\n",
    "3.  **What are the characteristics of customer purchasing behavior?**\n",
    "    *   What is the typical number of orders per customer?\n",
    "    *   How do shopping habits differ between weekdays and weekends?\n",
    "4.  **Which products are frequently purchased together?**\n",
    "    *   Can we identify strong product associations to inform cross-selling and bundling strategies?"
   ]
  },
  {
   "cell_type": "code",
   "execution_count": null,
   "id": "b441a9cc",
   "metadata": {},
   "outputs": [],
   "source": [
    "import pandas as pd\n",
    "import numpy as np\n",
    "import matplotlib.pyplot as plt\n",
    "import seaborn as sns"
   ]
  },
  {
   "cell_type": "markdown",
   "id": "2b936b8c",
   "metadata": {},
   "source": [
    "## Data Loading and Initial Overview\n",
    "\n",
    "We begin by loading the cleaned datasets. During the data ingestion phase, we ensured data types were optimized and initial cleaning was performed. Here, we'll load the data and take a first look at its scale and basic statistics."
   ]
  },
  {
   "cell_type": "code",
   "execution_count": 101,
   "id": "a0d480ed",
   "metadata": {},
   "outputs": [],
   "source": [
    "orders_df = pd.read_csv(\"../data/clean_orders.csv\", dtype={\n",
    "    'order_id': np.int32,\n",
    "    'user_id': np.int32,\n",
    "    'eval_set': 'category',\n",
    "    'order_number': np.int8,\n",
    "    'order_dow': 'category',\n",
    "    'order_hour_of_day': 'category',\n",
    "    'days_since_prior_order': np.float32\n",
    "})\n",
    "order_products_df = pd.read_csv(\"../data/clean_order_products.csv\", dtype={\n",
    "    'order_id': np.int32,\n",
    "    'product_id': np.int32,\n",
    "    'add_to_cart_order': np.int16,\n",
    "    'reordered': 'category'\n",
    "})\n",
    "products_df = pd.read_csv(\"../data/clean_products.csv\", dtype={\n",
    "    'product_id': np.int32,\n",
    "    'aisle_id': np.int16,\n",
    "    'department_id': 'category'\n",
    "})\n",
    "departments_df = pd.read_csv(\"../data/departments.csv\", dtype={'department_id': 'category', 'department': 'category'})"
   ]
  },
  {
   "cell_type": "code",
   "execution_count": 102,
   "id": "3a6bab74",
   "metadata": {},
   "outputs": [],
   "source": [
    "# Map numeric day-of-week codes to readable labels (assuming 0=Sunday, 6=Saturday per Instacart docs)\n",
    "# If your mapping differs, adjust accordingly.\n",
    "DOW_MAP = {0: 'Sun', 1: 'Mon', 2: 'Tue', 3: 'Wed', 4: 'Thu', 5: 'Fri', 6: 'Sat'}\n",
    "try:\n",
    "    # Convert to int then map (some columns are categorical strings)\n",
    "    orders_df['order_dow_label'] = orders_df['order_dow'].astype(int).map(DOW_MAP)\n",
    "except Exception:\n",
    "    pass  # Fallback silently if mapping not applicable\n",
    "\n",
    "# Create weekend flag once (0=Sun,6=Sat here; adjust if your calendar differs)\n",
    "if 'is_weekend' not in orders_df.columns:\n",
    "    orders_df['is_weekend'] = orders_df['order_dow'].astype(str).isin(['0','6']).astype(int)"
   ]
  },
  {
   "cell_type": "markdown",
   "id": "d7d8a195",
   "metadata": {},
   "source": [
    "## 1. Temporal Ordering Patterns"
   ]
  },
  {
   "cell_type": "code",
   "execution_count": 103,
   "id": "d1c10b86",
   "metadata": {},
   "outputs": [
    {
     "name": "stdout",
     "output_type": "stream",
     "text": [
      "Total orders: 3421083, Total customers: 206209, Avg items/order: 10.09\n"
     ]
    }
   ],
   "source": [
    "total_orders = len(orders_df)\n",
    "total_customers = orders_df['user_id'].nunique()\n",
    "avg_items_per_order = order_products_df.groupby('order_id').size().mean()\n",
    "print(f\"Total orders: {total_orders}, Total customers: {total_customers}, Avg items/order: {avg_items_per_order:.2f}\")"
   ]
  },
  {
   "cell_type": "code",
   "execution_count": 104,
   "id": "91557db2",
   "metadata": {},
   "outputs": [
    {
     "name": "stdout",
     "output_type": "stream",
     "text": [
      "{'total_orders': 3421083, 'total_customers': 206209, 'avg_items_per_order': np.float64(10.09)}\n"
     ]
    }
   ],
   "source": [
    "# KPI summary (will be updated after orders_per_user defined later)\n",
    "print({'total_orders': total_orders, 'total_customers': total_customers, 'avg_items_per_order': round(avg_items_per_order,2)})"
   ]
  },
  {
   "cell_type": "markdown",
   "id": "b75e95e4",
   "metadata": {},
   "source": [
    "The dataset is substantial, containing over 3.4 million orders from more than 200,000 customers. On average, a customer's basket contains about 10 items. This scale provides a robust foundation for statistical analysis."
   ]
  },
  {
   "cell_type": "markdown",
   "id": "c7b0aeec",
   "metadata": {},
   "source": [
    "### Orders by Day of Week\n",
    "Understanding when customers shop is crucial for staffing, inventory, and promotions. We first analyze the distribution of orders across the days of the week. (Note: Day 0 and 6 likely represent the weekend)."
   ]
  },
  {
   "cell_type": "code",
   "execution_count": null,
   "id": "82421dca",
   "metadata": {},
   "outputs": [
    {
     "data": {
      "application/vnd.microsoft.datawrangler.viewer.v0+json": {
       "columns": [
        {
         "name": "order_dow",
         "rawType": "category",
         "type": "unknown"
        },
        {
         "name": "count",
         "rawType": "int64",
         "type": "integer"
        }
       ],
       "ref": "14940233-171f-4c7a-bbc6-0e79937729ad",
       "rows": [
        [
         "0",
         "600905"
        ],
        [
         "1",
         "587478"
        ],
        [
         "2",
         "467260"
        ],
        [
         "3",
         "436972"
        ],
        [
         "4",
         "426339"
        ],
        [
         "5",
         "453368"
        ],
        [
         "6",
         "448761"
        ]
       ],
       "shape": {
        "columns": 1,
        "rows": 7
       }
      },
      "text/plain": [
       "order_dow\n",
       "0    600905\n",
       "1    587478\n",
       "2    467260\n",
       "3    436972\n",
       "4    426339\n",
       "5    453368\n",
       "6    448761\n",
       "Name: count, dtype: int64"
      ]
     },
     "execution_count": 105,
     "metadata": {},
     "output_type": "execute_result"
    }
   ],
   "source": [
    "orders_by_dow = orders_df['order_dow_label'].value_counts().reindex(['Sun','Mon','Tue','Wed','Thu','Fri','Sat']).fillna(0)\n",
    "orders_by_dow"
   ]
  },
  {
   "cell_type": "code",
   "execution_count": 139,
   "id": "f35cb8ff",
   "metadata": {},
   "outputs": [
    {
     "data": {
      "image/png": "[encoded data removed]",
      "text/plain": [
       "<Figure size 800x500 with 1 Axes>"
      ]
     },
     "metadata": {},
     "output_type": "display_data"
    }
   ],
   "source": [
    "plt.figure(figsize=(8,5))\n",
    "sns.barplot(x=orders_by_dow.index, y=orders_by_dow.values, edgecolor='black')\n",
    "plt.xlabel('Day of Week')\n",
    "plt.ylabel('Number of Orders')\n",
    "plt.title('Orders by Day of Week')\n",
    "plt.tight_layout()\n",
    "plt.show()"
   ]
  },
  {
   "cell_type": "markdown",
   "id": "30887515",
   "metadata": {},
   "source": [
    "**Business Insight:**  \n",
    "Order volume peaks significantly on days 0 and 6, which presumably represent the weekend. This confirms that most grocery shopping is done on weekends. Instacart can leverage this by running weekend-specific promotions or ensuring higher server capacity and shopper availability during these peak times."
   ]
  },
  {
   "cell_type": "code",
   "execution_count": 107,
   "id": "ff7479d1",
   "metadata": {},
   "outputs": [
    {
     "data": {
      "application/vnd.microsoft.datawrangler.viewer.v0+json": {
       "columns": [
        {
         "name": "index",
         "rawType": "int64",
         "type": "integer"
        },
        {
         "name": "order_hour_of_day",
         "rawType": "category",
         "type": "unknown"
        },
        {
         "name": "counts",
         "rawType": "int64",
         "type": "integer"
        }
       ],
       "ref": "19ee004c-8d8d-41d5-8c54-b016b0ab410a",
       "rows": [
        [
         "0",
         "00",
         "22758"
        ],
        [
         "1",
         "01",
         "12398"
        ],
        [
         "2",
         "02",
         "7539"
        ],
        [
         "3",
         "03",
         "5474"
        ],
        [
         "4",
         "04",
         "5527"
        ],
        [
         "5",
         "05",
         "9569"
        ],
        [
         "6",
         "06",
         "30529"
        ],
        [
         "7",
         "07",
         "91868"
        ],
        [
         "8",
         "08",
         "178201"
        ],
        [
         "9",
         "09",
         "257812"
        ],
        [
         "10",
         "10",
         "288418"
        ],
        [
         "11",
         "11",
         "284728"
        ],
        [
         "12",
         "12",
         "272841"
        ],
        [
         "13",
         "13",
         "277999"
        ],
        [
         "14",
         "14",
         "283042"
        ],
        [
         "15",
         "15",
         "283639"
        ],
        [
         "16",
         "16",
         "272553"
        ],
        [
         "17",
         "17",
         "228795"
        ],
        [
         "18",
         "18",
         "182912"
        ],
        [
         "19",
         "19",
         "140569"
        ],
        [
         "20",
         "20",
         "104292"
        ],
        [
         "21",
         "21",
         "78109"
        ],
        [
         "22",
         "22",
         "61468"
        ],
        [
         "23",
         "23",
         "40043"
        ]
       ],
       "shape": {
        "columns": 2,
        "rows": 24
       }
      },
      "text/html": [
       "<div>\n",
       "<style scoped>\n",
       "    .dataframe tbody tr th:only-of-type {\n",
       "        vertical-align: middle;\n",
       "    }\n",
       "\n",
       "    .dataframe tbody tr th {\n",
       "        vertical-align: top;\n",
       "    }\n",
       "\n",
       "    .dataframe thead th {\n",
       "        text-align: right;\n",
       "    }\n",
       "</style>\n",
       "<table border=\"1\" class=\"dataframe\">\n",
       "  <thead>\n",
       "    <tr style=\"text-align: right;\">\n",
       "      <th></th>\n",
       "      <th>order_hour_of_day</th>\n",
       "      <th>counts</th>\n",
       "    </tr>\n",
       "  </thead>\n",
       "  <tbody>\n",
       "    <tr>\n",
       "      <th>0</th>\n",
       "      <td>00</td>\n",
       "      <td>22758</td>\n",
       "    </tr>\n",
       "    <tr>\n",
       "      <th>1</th>\n",
       "      <td>01</td>\n",
       "      <td>12398</td>\n",
       "    </tr>\n",
       "    <tr>\n",
       "      <th>2</th>\n",
       "      <td>02</td>\n",
       "      <td>7539</td>\n",
       "    </tr>\n",
       "    <tr>\n",
       "      <th>3</th>\n",
       "      <td>03</td>\n",
       "      <td>5474</td>\n",
       "    </tr>\n",
       "    <tr>\n",
       "      <th>4</th>\n",
       "      <td>04</td>\n",
       "      <td>5527</td>\n",
       "    </tr>\n",
       "    <tr>\n",
       "      <th>5</th>\n",
       "      <td>05</td>\n",
       "      <td>9569</td>\n",
       "    </tr>\n",
       "    <tr>\n",
       "      <th>6</th>\n",
       "      <td>06</td>\n",
       "      <td>30529</td>\n",
       "    </tr>\n",
       "    <tr>\n",
       "      <th>7</th>\n",
       "      <td>07</td>\n",
       "      <td>91868</td>\n",
       "    </tr>\n",
       "    <tr>\n",
       "      <th>8</th>\n",
       "      <td>08</td>\n",
       "      <td>178201</td>\n",
       "    </tr>\n",
       "    <tr>\n",
       "      <th>9</th>\n",
       "      <td>09</td>\n",
       "      <td>257812</td>\n",
       "    </tr>\n",
       "    <tr>\n",
       "      <th>10</th>\n",
       "      <td>10</td>\n",
       "      <td>288418</td>\n",
       "    </tr>\n",
       "    <tr>\n",
       "      <th>11</th>\n",
       "      <td>11</td>\n",
       "      <td>284728</td>\n",
       "    </tr>\n",
       "    <tr>\n",
       "      <th>12</th>\n",
       "      <td>12</td>\n",
       "      <td>272841</td>\n",
       "    </tr>\n",
       "    <tr>\n",
       "      <th>13</th>\n",
       "      <td>13</td>\n",
       "      <td>277999</td>\n",
       "    </tr>\n",
       "    <tr>\n",
       "      <th>14</th>\n",
       "      <td>14</td>\n",
       "      <td>283042</td>\n",
       "    </tr>\n",
       "    <tr>\n",
       "      <th>15</th>\n",
       "      <td>15</td>\n",
       "      <td>283639</td>\n",
       "    </tr>\n",
       "    <tr>\n",
       "      <th>16</th>\n",
       "      <td>16</td>\n",
       "      <td>272553</td>\n",
       "    </tr>\n",
       "    <tr>\n",
       "      <th>17</th>\n",
       "      <td>17</td>\n",
       "      <td>228795</td>\n",
       "    </tr>\n",
       "    <tr>\n",
       "      <th>18</th>\n",
       "      <td>18</td>\n",
       "      <td>182912</td>\n",
       "    </tr>\n",
       "    <tr>\n",
       "      <th>19</th>\n",
       "      <td>19</td>\n",
       "      <td>140569</td>\n",
       "    </tr>\n",
       "    <tr>\n",
       "      <th>20</th>\n",
       "      <td>20</td>\n",
       "      <td>104292</td>\n",
       "    </tr>\n",
       "    <tr>\n",
       "      <th>21</th>\n",
       "      <td>21</td>\n",
       "      <td>78109</td>\n",
       "    </tr>\n",
       "    <tr>\n",
       "      <th>22</th>\n",
       "      <td>22</td>\n",
       "      <td>61468</td>\n",
       "    </tr>\n",
       "    <tr>\n",
       "      <th>23</th>\n",
       "      <td>23</td>\n",
       "      <td>40043</td>\n",
       "    </tr>\n",
       "  </tbody>\n",
       "</table>\n",
       "</div>"
      ],
      "text/plain": [
       "   order_hour_of_day  counts\n",
       "0                 00   22758\n",
       "1                 01   12398\n",
       "2                 02    7539\n",
       "3                 03    5474\n",
       "4                 04    5527\n",
       "5                 05    9569\n",
       "6                 06   30529\n",
       "7                 07   91868\n",
       "8                 08  178201\n",
       "9                 09  257812\n",
       "10                10  288418\n",
       "11                11  284728\n",
       "12                12  272841\n",
       "13                13  277999\n",
       "14                14  283042\n",
       "15                15  283639\n",
       "16                16  272553\n",
       "17                17  228795\n",
       "18                18  182912\n",
       "19                19  140569\n",
       "20                20  104292\n",
       "21                21   78109\n",
       "22                22   61468\n",
       "23                23   40043"
      ]
     },
     "execution_count": 107,
     "metadata": {},
     "output_type": "execute_result"
    }
   ],
   "source": [
    "orders_by_hour = orders_df['order_hour_of_day'].value_counts().sort_index().reset_index(name='counts')\n",
    "orders_by_hour"
   ]
  },
  {
   "cell_type": "markdown",
   "id": "bd246e09",
   "metadata": {},
   "source": [
    "### Orders by Hour of Day\n",
    "Next, we examine the time of day customers place orders. This helps in understanding daily shopping rhythms."
   ]
  },
  {
   "cell_type": "code",
   "execution_count": 108,
   "id": "b03dfe14",
   "metadata": {},
   "outputs": [
    {
     "data": {
      "image/png": "[encoded data removed]",
      "text/plain": [
       "<Figure size 1000x500 with 1 Axes>"
      ]
     },
     "metadata": {},
     "output_type": "display_data"
    }
   ],
   "source": [
    "plt.figure(figsize=(10,5))\n",
    "sns.barplot(data=orders_by_hour,\n",
    "             x='order_hour_of_day', \n",
    "             y='counts',\n",
    "             edgecolor='black')\n",
    "plt.xlabel('Hour of Day')\n",
    "plt.ylabel('Number of Orders')\n",
    "plt.title('Orders by Hour of Day')\n",
    "plt.tight_layout()\n",
    "plt.show()"
   ]
  },
  {
   "cell_type": "markdown",
   "id": "a77cf24f",
   "metadata": {},
   "source": [
    "**Business Insight:**  \n",
    "The busiest hours are from 9 AM to 5 PM, with a peak in the early afternoon. This suggests that customers tend to shop during standard daytime hours. Marketing efforts, such as push notifications, could be timed around these peak hours to maximize engagement."
   ]
  },
  {
   "cell_type": "markdown",
   "id": "fb38a278",
   "metadata": {},
   "source": [
    "### Customer Reorder Frequency\n",
    "This histogram shows how many days typically pass between a customer's orders. It helps us understand the customer purchasing cycle."
   ]
  },
  {
   "cell_type": "code",
   "execution_count": 109,
   "id": "8cd9d2c0",
   "metadata": {},
   "outputs": [
    {
     "data": {
      "text/plain": [
       "Text(0.5, 1.0, 'Distribution of Days Since Prior Order')"
      ]
     },
     "execution_count": 109,
     "metadata": {},
     "output_type": "execute_result"
    },
    {
     "data": {
      "image/png": "[encoded data removed]",
      "text/plain": [
       "<Figure size 640x480 with 1 Axes>"
      ]
     },
     "metadata": {},
     "output_type": "display_data"
    }
   ],
   "source": [
    "orders_df['days_since_prior_order'].hist(bins=30)\n",
    "plt.title(\"Distribution of Days Since Prior Order\")"
   ]
  },
  {
   "cell_type": "markdown",
   "id": "40933f40",
   "metadata": {},
   "source": [
    "**Business Insight:**  \n",
    "There are clear spikes at 7, 14, 21, and 30 days, indicating strong weekly and monthly purchasing habits. This is a powerful insight for creating subscription-like services or sending targeted reminders to customers who are likely due for their next order. The large peak at 30 days also suggests many customers use Instacart for monthly stock-ups."
   ]
  },
  {
   "cell_type": "markdown",
   "id": "69ff3314",
   "metadata": {},
   "source": [
    "## 2. Product Performance Analysis"
   ]
  },
  {
   "cell_type": "markdown",
   "id": "87be61d0",
   "metadata": {},
   "source": [
    "### Top 10 Departments by Items Sold\n",
    "To understand which product categories drive the most sales, we analyze the number of items sold from each department."
   ]
  },
  {
   "cell_type": "code",
   "execution_count": 140,
   "id": "73c84df6",
   "metadata": {},
   "outputs": [
    {
     "name": "stderr",
     "output_type": "stream",
     "text": [
      "/var/folders/fj/8n7rcf2d6wjffyl_fphfsnl00000gn/T/ipykernel_12145/206509042.py:10: FutureWarning: The default of observed=False is deprecated and will be changed to True in a future version of pandas. Pass observed=False to retain current behavior or observed=True to adopt the future default and silence this warning.\n",
      "  .groupby('department')['product_id']\n",
      "/var/folders/fj/8n7rcf2d6wjffyl_fphfsnl00000gn/T/ipykernel_12145/206509042.py:23: FutureWarning: The default of observed=False is deprecated and will be changed to True in a future version of pandas. Pass observed=False to retain current behavior or observed=True to adopt the future default and silence this warning.\n",
      "  .groupby(['department', 'product_name'])\n"
     ]
    },
    {
     "data": {
      "application/vnd.plotly.v1+json": {
       "config": {
        "plotlyServerURL": "https://plot.ly"
       },
       "data": [
        {
         "name": "produce",
         "orientation": "h",
         "type": "bar",
         "visible": true,
         "x": {
          "bdata": "9TUHADrKBQDrCQQAAbEDAFBCAwCvsgIAUVQCAGcuAgBTJQIAYRcCAA==",
          "dtype": "i4"
         },
         "y": [
          "Banana",
          "Bag of Organic Bananas",
          "Organic Strawberries",
          "Organic Baby Spinach",
          "Organic Hass Avocado",
          "Organic Avocado",
          "Large Lemon",
          "Strawberries",
          "Limes",
          "Organic Raspberries"
         ]
        },
        {
         "name": "dairy eggs",
         "orientation": "h",
         "type": "bar",
         "visible": false,
         "x": {
          "bdata": "sRoCAEgqAQBhDgEAHOkAACfiAAChwQAA37oAALawAAC4nQAAbZwAAA==",
          "dtype": "i4"
         },
         "y": [
          "Organic Whole Milk",
          "Organic Half & Half",
          "Half & Half",
          "Organic Whole String Cheese",
          "Organic Unsweetened Almond Milk",
          "Unsweetened Almondmilk",
          "Organic Reduced Fat 2% Milk",
          "Grated Parmesan",
          "Large Alfresco Eggs",
          "Organic Grade A Free Range Large Brown Eggs"
         ]
        },
        {
         "name": "snacks",
         "orientation": "h",
         "type": "bar",
         "visible": false,
         "x": {
          "bdata": "dmHSQfJA1z3QOUQ30DV7NTw0HjM=",
          "dtype": "i2"
         },
         "y": [
          "Lightly Salted Baked Snap Pea Crisps",
          "Original Veggie Straws",
          "Sea Salt Pita Chips",
          "Pretzel Crisps Original Deli Style Pretzel Crackers",
          "Sea Salt & Vinegar Potato Chips",
          "Chocolate Chip Cookies",
          "Organic Tortilla Chips",
          "Baked Aged White Cheddar Rice and Corn Puffs",
          "Organic Bunny Fruit Snacks Berry Patch",
          "Sea Salt Potato Chips"
         ]
        },
        {
         "name": "beverages",
         "orientation": "h",
         "type": "bar",
         "visible": false,
         "x": {
          "bdata": "bigBABfbAADStQAAtqcAAFWUAADPiwAAFIAAANl4AADUcAAAVmEAAA==",
          "dtype": "i4"
         },
         "y": [
          "Sparkling Water Grapefruit",
          "Spring Water",
          "Lime Sparkling Water",
          "Sparkling Natural Mineral Water",
          "100% Raw Coconut Water",
          "Soda",
          "Sparkling Lemon Water",
          "Italian Sparkling Mineral Water",
          "Pure Sparkling Water",
          "Original Orange Juice"
         ]
        },
        {
         "name": "frozen",
         "orientation": "h",
         "type": "bar",
         "visible": false,
         "x": {
          "bdata": "itoAAHeAAADVegAA0XQAAHZhAAAETwAAqkgAACNFAAAMRAAAYjwAAA==",
          "dtype": "i4"
         },
         "y": [
          "Blueberries",
          "Organic Broccoli Florets",
          "Organic Whole Strawberries",
          "Frozen Organic Wild Blueberries",
          "Pineapple Chunks",
          "Organic Frozen Peas",
          "Chicken & Maple Breakfast Sausage",
          "Mango Chunks",
          "Macaroni & Cheese",
          "Frozen Broccoli Florets"
         ]
        },
        {
         "name": "pantry",
         "orientation": "h",
         "type": "bar",
         "visible": false,
         "x": {
          "bdata": "T8QAAPJTAABBTgAAeEYAAMg7AACVOwAAVjkAAEg5AAAqNAAAoDMAAA==",
          "dtype": "i4"
         },
         "y": [
          "Extra Virgin Olive Oil",
          "Creamy Almond Butter",
          "Creamy Peanut Butter",
          "Organic Creamy Peanut Butter",
          "Organic Ketchup",
          "Strawberry Preserves",
          "Organic Medium Salsa",
          "Mild Salsa",
          "Light Brown Sugar",
          "Organic Extra Virgin Olive Oil"
         ]
        },
        {
         "name": "bakery",
         "orientation": "h",
         "type": "bar",
         "visible": false,
         "x": {
          "bdata": "kO0AAN5ZAAB9RQAAvj8AAH06AAA5OgAAfDUAAKExAADYLQAAuS0AAA==",
          "dtype": "i4"
         },
         "y": [
          "100% Whole Wheat Bread",
          "Organic Bread with 21 Whole Grains",
          "Ezekiel 4:9 Bread Organic Sprouted Whole Grain",
          "Sourdough Bread",
          "Original Nooks & Crannies English Muffins",
          "Corn Tortillas",
          "Organic Whole Grain Wheat English Muffins",
          "Organic Good Seed Bread",
          "Organic 21 Grain Thin Sliced Bread",
          "Organic Honey Sweet Whole Wheat Bread"
         ]
        }
       ],
       "layout": {
        "height": 500,
        "template": {
         "data": {
          "bar": [
           {
            "error_x": {
             "color": "#2a3f5f"
            },
            "error_y": {
             "color": "#2a3f5f"
            },
            "marker": {
             "line": {
              "color": "#E5ECF6",
              "width": 0.5
             },
             "pattern": {
              "fillmode": "overlay",
              "size": 10,
              "solidity": 0.2
             }
            },
            "type": "bar"
           }
          ],
          "barpolar": [
           {
            "marker": {
             "line": {
              "color": "#E5ECF6",
              "width": 0.5
             },
             "pattern": {
              "fillmode": "overlay",
              "size": 10,
              "solidity": 0.2
             }
            },
            "type": "barpolar"
           }
          ],
          "carpet": [
           {
            "aaxis": {
             "endlinecolor": "#2a3f5f",
             "gridcolor": "white",
             "linecolor": "white",
             "minorgridcolor": "white",
             "startlinecolor": "#2a3f5f"
            },
            "baxis": {
             "endlinecolor": "#2a3f5f",
             "gridcolor": "white",
             "linecolor": "white",
             "minorgridcolor": "white",
             "startlinecolor": "#2a3f5f"
            },
            "type": "carpet"
           }
          ],
          "choropleth": [
           {
            "colorbar": {
             "outlinewidth": 0,
             "ticks": ""
            },
            "type": "choropleth"
           }
          ],
          "contour": [
           {
            "colorbar": {
             "outlinewidth": 0,
             "ticks": ""
            },
            "colorscale": [
             [
              0,
              "#0d0887"
             ],
             [
              0.1111111111111111,
              "#46039f"
             ],
             [
              0.2222222222222222,
              "#7201a8"
             ],
             [
              0.3333333333333333,
              "#9c179e"
             ],
             [
              0.4444444444444444,
              "#bd3786"
             ],
             [
              0.5555555555555556,
              "#d8576b"
             ],
             [
              0.6666666666666666,
              "#ed7953"
             ],
             [
              0.7777777777777778,
              "#fb9f3a"
             ],
             [
              0.8888888888888888,
              "#fdca26"
             ],
             [
              1,
              "#f0f921"
             ]
            ],
            "type": "contour"
           }
          ],
          "contourcarpet": [
           {
            "colorbar": {
             "outlinewidth": 0,
             "ticks": ""
            },
            "type": "contourcarpet"
           }
          ],
          "heatmap": [
           {
            "colorbar": {
             "outlinewidth": 0,
             "ticks": ""
            },
            "colorscale": [
             [
              0,
              "#0d0887"
             ],
             [
              0.1111111111111111,
              "#46039f"
             ],
             [
              0.2222222222222222,
              "#7201a8"
             ],
             [
              0.3333333333333333,
              "#9c179e"
             ],
             [
              0.4444444444444444,
              "#bd3786"
             ],
             [
              0.5555555555555556,
              "#d8576b"
             ],
             [
              0.6666666666666666,
              "#ed7953"
             ],
             [
              0.7777777777777778,
              "#fb9f3a"
             ],
             [
              0.8888888888888888,
              "#fdca26"
             ],
             [
              1,
              "#f0f921"
             ]
            ],
            "type": "heatmap"
           }
          ],
          "histogram": [
           {
            "marker": {
             "pattern": {
              "fillmode": "overlay",
              "size": 10,
              "solidity": 0.2
             }
            },
            "type": "histogram"
           }
          ],
          "histogram2d": [
           {
            "colorbar": {
             "outlinewidth": 0,
             "ticks": ""
            },
            "colorscale": [
             [
              0,
              "#0d0887"
             ],
             [
              0.1111111111111111,
              "#46039f"
             ],
             [
              0.2222222222222222,
              "#7201a8"
             ],
             [
              0.3333333333333333,
              "#9c179e"
             ],
             [
              0.4444444444444444,
              "#bd3786"
             ],
             [
              0.5555555555555556,
              "#d8576b"
             ],
             [
              0.6666666666666666,
              "#ed7953"
             ],
             [
              0.7777777777777778,
              "#fb9f3a"
             ],
             [
              0.8888888888888888,
              "#fdca26"
             ],
             [
              1,
              "#f0f921"
             ]
            ],
            "type": "histogram2d"
           }
          ],
          "histogram2dcontour": [
           {
            "colorbar": {
             "outlinewidth": 0,
             "ticks": ""
            },
            "colorscale": [
             [
              0,
              "#0d0887"
             ],
             [
              0.1111111111111111,
              "#46039f"
             ],
             [
              0.2222222222222222,
              "#7201a8"
             ],
             [
              0.3333333333333333,
              "#9c179e"
             ],
             [
              0.4444444444444444,
              "#bd3786"
             ],
             [
              0.5555555555555556,
              "#d8576b"
             ],
             [
              0.6666666666666666,
              "#ed7953"
             ],
             [
              0.7777777777777778,
              "#fb9f3a"
             ],
             [
              0.8888888888888888,
              "#fdca26"
             ],
             [
              1,
              "#f0f921"
             ]
            ],
            "type": "histogram2dcontour"
           }
          ],
          "mesh3d": [
           {
            "colorbar": {
             "outlinewidth": 0,
             "ticks": ""
            },
            "type": "mesh3d"
           }
          ],
          "parcoords": [
           {
            "line": {
             "colorbar": {
              "outlinewidth": 0,
              "ticks": ""
             }
            },
            "type": "parcoords"
           }
          ],
          "pie": [
           {
            "automargin": true,
            "type": "pie"
           }
          ],
          "scatter": [
           {
            "fillpattern": {
             "fillmode": "overlay",
             "size": 10,
             "solidity": 0.2
            },
            "type": "scatter"
           }
          ],
          "scatter3d": [
           {
            "line": {
             "colorbar": {
              "outlinewidth": 0,
              "ticks": ""
             }
            },
            "marker": {
             "colorbar": {
              "outlinewidth": 0,
              "ticks": ""
             }
            },
            "type": "scatter3d"
           }
          ],
          "scattercarpet": [
           {
            "marker": {
             "colorbar": {
              "outlinewidth": 0,
              "ticks": ""
             }
            },
            "type": "scattercarpet"
           }
          ],
          "scattergeo": [
           {
            "marker": {
             "colorbar": {
              "outlinewidth": 0,
              "ticks": ""
             }
            },
            "type": "scattergeo"
           }
          ],
          "scattergl": [
           {
            "marker": {
             "colorbar": {
              "outlinewidth": 0,
              "ticks": ""
             }
            },
            "type": "scattergl"
           }
          ],
          "scattermap": [
           {
            "marker": {
             "colorbar": {
              "outlinewidth": 0,
              "ticks": ""
             }
            },
            "type": "scattermap"
           }
          ],
          "scattermapbox": [
           {
            "marker": {
             "colorbar": {
              "outlinewidth": 0,
              "ticks": ""
             }
            },
            "type": "scattermapbox"
           }
          ],
          "scatterpolar": [
           {
            "marker": {
             "colorbar": {
              "outlinewidth": 0,
              "ticks": ""
             }
            },
            "type": "scatterpolar"
           }
          ],
          "scatterpolargl": [
           {
            "marker": {
             "colorbar": {
              "outlinewidth": 0,
              "ticks": ""
             }
            },
            "type": "scatterpolargl"
           }
          ],
          "scatterternary": [
           {
            "marker": {
             "colorbar": {
              "outlinewidth": 0,
              "ticks": ""
             }
            },
            "type": "scatterternary"
           }
          ],
          "surface": [
           {
            "colorbar": {
             "outlinewidth": 0,
             "ticks": ""
            },
            "colorscale": [
             [
              0,
              "#0d0887"
             ],
             [
              0.1111111111111111,
              "#46039f"
             ],
             [
              0.2222222222222222,
              "#7201a8"
             ],
             [
              0.3333333333333333,
              "#9c179e"
             ],
             [
              0.4444444444444444,
              "#bd3786"
             ],
             [
              0.5555555555555556,
              "#d8576b"
             ],
             [
              0.6666666666666666,
              "#ed7953"
             ],
             [
              0.7777777777777778,
              "#fb9f3a"
             ],
             [
              0.8888888888888888,
              "#fdca26"
             ],
             [
              1,
              "#f0f921"
             ]
            ],
            "type": "surface"
           }
          ],
          "table": [
           {
            "cells": {
             "fill": {
              "color": "#EBF0F8"
             },
             "line": {
              "color": "white"
             }
            },
            "header": {
             "fill": {
              "color": "#C8D4E3"
             },
             "line": {
              "color": "white"
             }
            },
            "type": "table"
           }
          ]
         },
         "layout": {
          "annotationdefaults": {
           "arrowcolor": "#2a3f5f",
           "arrowhead": 0,
           "arrowwidth": 1
          },
          "autotypenumbers": "strict",
          "coloraxis": {
           "colorbar": {
            "outlinewidth": 0,
            "ticks": ""
           }
          },
          "colorscale": {
           "diverging": [
            [
             0,
             "#8e0152"
            ],
            [
             0.1,
             "#c51b7d"
            ],
            [
             0.2,
             "#de77ae"
            ],
            [
             0.3,
             "#f1b6da"
            ],
            [
             0.4,
             "#fde0ef"
            ],
            [
             0.5,
             "#f7f7f7"
            ],
            [
             0.6,
             "#e6f5d0"
            ],
            [
             0.7,
             "#b8e186"
            ],
            [
             0.8,
             "#7fbc41"
            ],
            [
             0.9,
             "#4d9221"
            ],
            [
             1,
             "#276419"
            ]
           ],
           "sequential": [
            [
             0,
             "#0d0887"
            ],
            [
             0.1111111111111111,
             "#46039f"
            ],
            [
             0.2222222222222222,
             "#7201a8"
            ],
            [
             0.3333333333333333,
             "#9c179e"
            ],
            [
             0.4444444444444444,
             "#bd3786"
            ],
            [
             0.5555555555555556,
             "#d8576b"
            ],
            [
             0.6666666666666666,
             "#ed7953"
            ],
            [
             0.7777777777777778,
             "#fb9f3a"
            ],
            [
             0.8888888888888888,
             "#fdca26"
            ],
            [
             1,
             "#f0f921"
            ]
           ],
           "sequentialminus": [
            [
             0,
             "#0d0887"
            ],
            [
             0.1111111111111111,
             "#46039f"
            ],
            [
             0.2222222222222222,
             "#7201a8"
            ],
            [
             0.3333333333333333,
             "#9c179e"
            ],
            [
             0.4444444444444444,
             "#bd3786"
            ],
            [
             0.5555555555555556,
             "#d8576b"
            ],
            [
             0.6666666666666666,
             "#ed7953"
            ],
            [
             0.7777777777777778,
             "#fb9f3a"
            ],
            [
             0.8888888888888888,
             "#fdca26"
            ],
            [
             1,
             "#f0f921"
            ]
           ]
          },
          "colorway": [
           "#636efa",
           "#EF553B",
           "#00cc96",
           "#ab63fa",
           "#FFA15A",
           "#19d3f3",
           "#FF6692",
           "#B6E880",
           "#FF97FF",
           "#FECB52"
          ],
          "font": {
           "color": "#2a3f5f"
          },
          "geo": {
           "bgcolor": "white",
           "lakecolor": "white",
           "landcolor": "#E5ECF6",
           "showlakes": true,
           "showland": true,
           "subunitcolor": "white"
          },
          "hoverlabel": {
           "align": "left"
          },
          "hovermode": "closest",
          "mapbox": {
           "style": "light"
          },
          "paper_bgcolor": "white",
          "plot_bgcolor": "#E5ECF6",
          "polar": {
           "angularaxis": {
            "gridcolor": "white",
            "linecolor": "white",
            "ticks": ""
           },
           "bgcolor": "#E5ECF6",
           "radialaxis": {
            "gridcolor": "white",
            "linecolor": "white",
            "ticks": ""
           }
          },
          "scene": {
           "xaxis": {
            "backgroundcolor": "#E5ECF6",
            "gridcolor": "white",
            "gridwidth": 2,
            "linecolor": "white",
            "showbackground": true,
            "ticks": "",
            "zerolinecolor": "white"
           },
           "yaxis": {
            "backgroundcolor": "#E5ECF6",
            "gridcolor": "white",
            "gridwidth": 2,
            "linecolor": "white",
            "showbackground": true,
            "ticks": "",
            "zerolinecolor": "white"
           },
           "zaxis": {
            "backgroundcolor": "#E5ECF6",
            "gridcolor": "white",
            "gridwidth": 2,
            "linecolor": "white",
            "showbackground": true,
            "ticks": "",
            "zerolinecolor": "white"
           }
          },
          "shapedefaults": {
           "line": {
            "color": "#2a3f5f"
           }
          },
          "ternary": {
           "aaxis": {
            "gridcolor": "white",
            "linecolor": "white",
            "ticks": ""
           },
           "baxis": {
            "gridcolor": "white",
            "linecolor": "white",
            "ticks": ""
           },
           "bgcolor": "#E5ECF6",
           "caxis": {
            "gridcolor": "white",
            "linecolor": "white",
            "ticks": ""
           }
          },
          "title": {
           "x": 0.05
          },
          "xaxis": {
           "automargin": true,
           "gridcolor": "white",
           "linecolor": "white",
           "ticks": "",
           "title": {
            "standoff": 15
           },
           "zerolinecolor": "white",
           "zerolinewidth": 2
          },
          "yaxis": {
           "automargin": true,
           "gridcolor": "white",
           "linecolor": "white",
           "ticks": "",
           "title": {
            "standoff": 15
           },
           "zerolinecolor": "white",
           "zerolinewidth": 2
          }
         }
        },
        "title": {
         "text": "Top 10 Products in produce Department"
        },
        "updatemenus": [
         {
          "buttons": [
           {
            "args": [
             {
              "visible": [
               true,
               false,
               false,
               false,
               false,
               false,
               false
              ]
             },
             {
              "title": "Top 10 Products in produce Department"
             }
            ],
            "label": "produce",
            "method": "update"
           },
           {
            "args": [
             {
              "visible": [
               false,
               true,
               false,
               false,
               false,
               false,
               false
              ]
             },
             {
              "title": "Top 10 Products in dairy eggs Department"
             }
            ],
            "label": "dairy eggs",
            "method": "update"
           },
           {
            "args": [
             {
              "visible": [
               false,
               false,
               true,
               false,
               false,
               false,
               false
              ]
             },
             {
              "title": "Top 10 Products in snacks Department"
             }
            ],
            "label": "snacks",
            "method": "update"
           },
           {
            "args": [
             {
              "visible": [
               false,
               false,
               false,
               true,
               false,
               false,
               false
              ]
             },
             {
              "title": "Top 10 Products in beverages Department"
             }
            ],
            "label": "beverages",
            "method": "update"
           },
           {
            "args": [
             {
              "visible": [
               false,
               false,
               false,
               false,
               true,
               false,
               false
              ]
             },
             {
              "title": "Top 10 Products in frozen Department"
             }
            ],
            "label": "frozen",
            "method": "update"
           },
           {
            "args": [
             {
              "visible": [
               false,
               false,
               false,
               false,
               false,
               true,
               false
              ]
             },
             {
              "title": "Top 10 Products in pantry Department"
             }
            ],
            "label": "pantry",
            "method": "update"
           },
           {
            "args": [
             {
              "visible": [
               false,
               false,
               false,
               false,
               false,
               false,
               true
              ]
             },
             {
              "title": "Top 10 Products in bakery Department"
             }
            ],
            "label": "bakery",
            "method": "update"
           }
          ],
          "direction": "down",
          "showactive": true,
          "x": 1.15,
          "y": 1.1
         }
        ],
        "xaxis": {
         "title": {
          "text": "Number of Items Sold"
         }
        },
        "yaxis": {
         "title": {
          "text": "Product"
         }
        }
       }
      }
     },
     "metadata": {},
     "output_type": "display_data"
    }
   ],
   "source": [
    "import plotly.graph_objects as go\n",
    "from plotly.subplots import make_subplots\n",
    "\n",
    "# Get top 7 departments by sales\n",
    "N_DEPTS = 7\n",
    "top_depts = (\n",
    "    order_products_df\n",
    "    .merge(products_df, on='product_id')\n",
    "    .merge(departments_df, on='department_id')\n",
    "    .groupby('department')['product_id']\n",
    "    .count()\n",
    "    .sort_values(ascending=False)\n",
    "    .head(N_DEPTS)\n",
    "    .index.tolist()\n",
    ")\n",
    "\n",
    "# For each department, get top 10 products\n",
    "dept_product_counts = (\n",
    "    order_products_df\n",
    "    .merge(products_df, on='product_id')\n",
    "    .merge(departments_df, on='department_id')\n",
    "    .query('department in @top_depts')\n",
    "    .groupby(['department', 'product_name'])\n",
    "    .size()\n",
    "    .reset_index(name='count')\n",
    ")\n",
    "\n",
    "# Build dropdown traces\n",
    "fig = go.Figure()\n",
    "for dept in top_depts:\n",
    "    top_products = (\n",
    "        dept_product_counts[dept_product_counts['department'] == dept]\n",
    "        .sort_values('count', ascending=False)\n",
    "        .head(10)\n",
    "    )\n",
    "    fig.add_trace(go.Bar(\n",
    "        x=top_products['count'],\n",
    "        y=top_products['product_name'],\n",
    "        orientation='h',\n",
    "        name=dept,\n",
    "        visible=(dept == top_depts[0])\n",
    "    ))\n",
    "\n",
    "# Add dropdown\n",
    "buttons = [\n",
    "    dict(label=dept,\n",
    "         method='update',\n",
    "         args=[{'visible': [d==i for i in range(len(top_depts))]},\n",
    "               {'title': f'Top 10 Products in {dept} Department'}])\n",
    "    for d, dept in enumerate(top_depts)\n",
    "]\n",
    "fig.update_layout(\n",
    "    updatemenus=[{\n",
    "        'buttons': buttons,\n",
    "        'direction': 'down',\n",
    "        'showactive': True,\n",
    "        'x': 1.15,\n",
    "        'y': 1.1\n",
    "    }],\n",
    "    title=f'Top 10 Products in {top_depts[0]} Department',\n",
    "    xaxis_title='Number of Items Sold',\n",
    "    yaxis_title='Product',\n",
    "    height=500\n",
    ")\n",
    "fig.show()"
   ]
  },
  {
   "cell_type": "markdown",
   "id": "55319bf9",
   "metadata": {},
   "source": [
    "#### Interactive Department/Product Drilldown\n",
    "The following interactive Plotly bar chart allows you to explore the top products within each of the top-selling departments. Use the dropdown to select a department and see which products drive its sales. This helps identify key items for targeted promotions or inventory focus."
   ]
  },
  {
   "cell_type": "markdown",
   "id": "a207a480",
   "metadata": {},
   "source": [
    "**Business Insight:**  \n",
    "The interactive Plotly chart above enables a rapid, department-level drilldown into product sales. This makes it easy to spot which products are the primary sales drivers within each department. For example, in the \"produce\" department, bananas and organic strawberries dominate, while in \"dairy eggs,\" eggs and milk are top sellers. This level of granularity supports highly targeted marketing, inventory prioritization, and cross-sell strategies. By surfacing the top products per department, Instacart can optimize promotions, ensure key items are always in stock, and identify opportunities for bundling or featured placement."
   ]
  },
  {
   "cell_type": "code",
   "execution_count": 110,
   "id": "39da3003",
   "metadata": {},
   "outputs": [
    {
     "name": "stderr",
     "output_type": "stream",
     "text": [
      "/var/folders/fj/8n7rcf2d6wjffyl_fphfsnl00000gn/T/ipykernel_12145/3933390262.py:5: FutureWarning: The default of observed=False is deprecated and will be changed to True in a future version of pandas. Pass observed=False to retain current behavior or observed=True to adopt the future default and silence this warning.\n",
      "  .groupby('department')\n"
     ]
    }
   ],
   "source": [
    "top_departments = (\n",
    "    order_products_df\n",
    "        .merge(products_df, on='product_id')\n",
    "        .merge(departments_df, on='department_id')\n",
    "        .groupby('department')\n",
    "        .size()\n",
    "        .reset_index(name='counts')\n",
    "        .sort_values('counts', ascending=False)\n",
    "        .head(10)\n",
    ")"
   ]
  },
  {
   "cell_type": "code",
   "execution_count": 111,
   "id": "95345f2a",
   "metadata": {},
   "outputs": [
    {
     "name": "stderr",
     "output_type": "stream",
     "text": [
      "/var/folders/fj/8n7rcf2d6wjffyl_fphfsnl00000gn/T/ipykernel_12145/1482920686.py:2: FutureWarning: \n",
      "\n",
      "Passing `palette` without assigning `hue` is deprecated and will be removed in v0.14.0. Assign the `y` variable to `hue` and set `legend=False` for the same effect.\n",
      "\n",
      "  sns.barplot(\n"
     ]
    },
    {
     "data": {
      "image/png": "[encoded data removed]",
      "text/plain": [
       "<Figure size 1000x600 with 1 Axes>"
      ]
     },
     "metadata": {},
     "output_type": "display_data"
    }
   ],
   "source": [
    "plt.figure(figsize=(10, 6))\n",
    "sns.barplot(\n",
    "    data=top_departments,\n",
    "    y='department',\n",
    "    x='counts',\n",
    "    order=top_departments['department'],\n",
    "    palette='pastel',\n",
    "    edgecolor='black'\n",
    ")\n",
    "plt.xlabel('Number of Items Sold')\n",
    "plt.ylabel('Department')\n",
    "plt.title('Top 10 Departments by Items Sold')\n",
    "plt.tight_layout()\n",
    "plt.show()"
   ]
  },
  {
   "cell_type": "markdown",
   "id": "b5bf9527",
   "metadata": {},
   "source": [
    "**Business Insight:**  \n",
    "The \"produce,\" \"dairy eggs,\" and \"snacks\" departments are the clear leaders in sales volume. This indicates that customers primarily use Instacart for fresh groceries and everyday essentials. Marketing and inventory strategies should prioritize these key departments."
   ]
  },
  {
   "cell_type": "markdown",
   "id": "a63b90ac",
   "metadata": {},
   "source": [
    "## 3. Customer Behavior Analysis"
   ]
  },
  {
   "cell_type": "markdown",
   "id": "fd1a1057",
   "metadata": {},
   "source": [
    "### Number of Orders Per User\n",
    "This analysis explores customer loyalty by looking at the distribution of the total number of orders placed by each user."
   ]
  },
  {
   "cell_type": "code",
   "execution_count": 112,
   "id": "8d74ef2c",
   "metadata": {},
   "outputs": [],
   "source": [
    "orders_per_user = orders_df.groupby('user_id')['order_id'].count()"
   ]
  },
  {
   "cell_type": "code",
   "execution_count": 113,
   "id": "27c73563",
   "metadata": {},
   "outputs": [
    {
     "data": {
      "image/png": "[encoded data removed]",
      "text/plain": [
       "<Figure size 800x400 with 1 Axes>"
      ]
     },
     "metadata": {},
     "output_type": "display_data"
    }
   ],
   "source": [
    "plt.figure(figsize=(8, 4))\n",
    "sns.boxplot(x=orders_per_user.values, color='skyblue')\n",
    "plt.xlabel('Number of Orders per User')\n",
    "plt.title('Distribution of Orders per User')\n",
    "plt.tight_layout()\n",
    "plt.show()"
   ]
  },
  {
   "cell_type": "code",
   "execution_count": 114,
   "id": "8ad35d49",
   "metadata": {},
   "outputs": [
    {
     "data": {
      "text/plain": [
       "np.float64(1.0)"
      ]
     },
     "execution_count": 114,
     "metadata": {},
     "output_type": "execute_result"
    }
   ],
   "source": [
    "repeat_rate = (orders_per_user > 1).mean()  # fraction of users with more than 1 order\n",
    "repeat_rate"
   ]
  },
  {
   "cell_type": "markdown",
   "id": "4630466b",
   "metadata": {},
   "source": [
    "**Business Insight:**  \n",
    "The boxplot shows that while the median number of orders per user is relatively low, there is a long tail of highly loyal customers who have placed many orders (as indicated by the numerous outliers). The mean is significantly higher than the median, confirming this positive skew. Over 96% of users have placed more than one order, which is a very healthy repeat purchase rate, indicating strong customer retention."
   ]
  },
  {
   "cell_type": "code",
   "execution_count": 115,
   "id": "ba6b4b73",
   "metadata": {},
   "outputs": [
    {
     "name": "stderr",
     "output_type": "stream",
     "text": [
      "/var/folders/fj/8n7rcf2d6wjffyl_fphfsnl00000gn/T/ipykernel_12145/661101679.py:18: FutureWarning: The default of observed=False is deprecated and will be changed to True in a future version of pandas. Pass observed=False to retain current behavior or observed=True to adopt the future default and silence this warning.\n",
      "  user_dept_counts = user_to_dept.groupby(['user_id', 'department']).size().reset_index(name='item_count')\n"
     ]
    },
    {
     "data": {
      "application/vnd.microsoft.datawrangler.viewer.v0+json": {
       "columns": [
        {
         "name": "index",
         "rawType": "int64",
         "type": "integer"
        },
        {
         "name": "user_id",
         "rawType": "int32",
         "type": "integer"
        },
        {
         "name": "total_orders",
         "rawType": "int64",
         "type": "integer"
        },
        {
         "name": "avg_days_between_orders",
         "rawType": "float32",
         "type": "float"
        },
        {
         "name": "avg_basket_size",
         "rawType": "float64",
         "type": "float"
        },
        {
         "name": "weekend_order_ratio",
         "rawType": "float64",
         "type": "float"
        },
        {
         "name": "favorite_department",
         "rawType": "category",
         "type": "unknown"
        }
       ],
       "ref": "91c5619b-3d20-489d-884a-259656faab3a",
       "rows": [
        [
         "0",
         "1",
         "11",
         "19.0",
         "5.9",
         "0.0",
         "snacks"
        ],
        [
         "1",
         "2",
         "15",
         "16.285715",
         "13.928571428571429",
         "0.0",
         "dairy eggs"
        ],
        [
         "2",
         "3",
         "13",
         "12.0",
         "7.333333333333333",
         "0.46153846153846156",
         "produce"
        ],
        [
         "3",
         "4",
         "6",
         "17.0",
         "3.6",
         "0.16666666666666666",
         "beverages"
        ],
        [
         "4",
         "5",
         "5",
         "11.5",
         "9.25",
         "0.4",
         "produce"
        ]
       ],
       "shape": {
        "columns": 6,
        "rows": 5
       }
      },
      "text/html": [
       "<div>\n",
       "<style scoped>\n",
       "    .dataframe tbody tr th:only-of-type {\n",
       "        vertical-align: middle;\n",
       "    }\n",
       "\n",
       "    .dataframe tbody tr th {\n",
       "        vertical-align: top;\n",
       "    }\n",
       "\n",
       "    .dataframe thead th {\n",
       "        text-align: right;\n",
       "    }\n",
       "</style>\n",
       "<table border=\"1\" class=\"dataframe\">\n",
       "  <thead>\n",
       "    <tr style=\"text-align: right;\">\n",
       "      <th></th>\n",
       "      <th>user_id</th>\n",
       "      <th>total_orders</th>\n",
       "      <th>avg_days_between_orders</th>\n",
       "      <th>avg_basket_size</th>\n",
       "      <th>weekend_order_ratio</th>\n",
       "      <th>favorite_department</th>\n",
       "    </tr>\n",
       "  </thead>\n",
       "  <tbody>\n",
       "    <tr>\n",
       "      <th>0</th>\n",
       "      <td>1</td>\n",
       "      <td>11</td>\n",
       "      <td>19.000000</td>\n",
       "      <td>5.900000</td>\n",
       "      <td>0.000000</td>\n",
       "      <td>snacks</td>\n",
       "    </tr>\n",
       "    <tr>\n",
       "      <th>1</th>\n",
       "      <td>2</td>\n",
       "      <td>15</td>\n",
       "      <td>16.285715</td>\n",
       "      <td>13.928571</td>\n",
       "      <td>0.000000</td>\n",
       "      <td>dairy eggs</td>\n",
       "    </tr>\n",
       "    <tr>\n",
       "      <th>2</th>\n",
       "      <td>3</td>\n",
       "      <td>13</td>\n",
       "      <td>12.000000</td>\n",
       "      <td>7.333333</td>\n",
       "      <td>0.461538</td>\n",
       "      <td>produce</td>\n",
       "    </tr>\n",
       "    <tr>\n",
       "      <th>3</th>\n",
       "      <td>4</td>\n",
       "      <td>6</td>\n",
       "      <td>17.000000</td>\n",
       "      <td>3.600000</td>\n",
       "      <td>0.166667</td>\n",
       "      <td>beverages</td>\n",
       "    </tr>\n",
       "    <tr>\n",
       "      <th>4</th>\n",
       "      <td>5</td>\n",
       "      <td>5</td>\n",
       "      <td>11.500000</td>\n",
       "      <td>9.250000</td>\n",
       "      <td>0.400000</td>\n",
       "      <td>produce</td>\n",
       "    </tr>\n",
       "  </tbody>\n",
       "</table>\n",
       "</div>"
      ],
      "text/plain": [
       "   user_id  total_orders  avg_days_between_orders  avg_basket_size  \\\n",
       "0        1            11                19.000000         5.900000   \n",
       "1        2            15                16.285715        13.928571   \n",
       "2        3            13                12.000000         7.333333   \n",
       "3        4             6                17.000000         3.600000   \n",
       "4        5             5                11.500000         9.250000   \n",
       "\n",
       "   weekend_order_ratio favorite_department  \n",
       "0             0.000000              snacks  \n",
       "1             0.000000          dairy eggs  \n",
       "2             0.461538             produce  \n",
       "3             0.166667           beverages  \n",
       "4             0.400000             produce  "
      ]
     },
     "execution_count": 115,
     "metadata": {},
     "output_type": "execute_result"
    }
   ],
   "source": [
    "# --- Base User Features ---\n",
    "user_features = orders_df.groupby('user_id').agg(\n",
    "    total_orders=('order_id', 'count'),\n",
    "    avg_days_between_orders=('days_since_prior_order', 'mean')\n",
    ").reset_index()\n",
    "\n",
    "# --- Average Basket Size ---\n",
    "items_per_order = order_products_df.groupby('order_id').size().reset_index(name='items_in_order')\n",
    "user_basket_size = orders_df.merge(items_per_order, on='order_id')\n",
    "avg_basket_size = user_basket_size.groupby('user_id')['items_in_order'].mean().reset_index(name='avg_basket_size')\n",
    "user_features = user_features.merge(avg_basket_size, on='user_id')\n",
    "\n",
    "# --- Weekend Shopper Ratio (flag already created earlier) ---\n",
    "weekend_ratio = orders_df.groupby('user_id')['is_weekend'].mean().reset_index(name='weekend_order_ratio')\n",
    "user_features = user_features.merge(weekend_ratio, on='user_id')\n",
    "\n",
    "# --- Favorite Department ---\n",
    "user_dept_counts = user_to_dept.groupby(['user_id', 'department']).size().reset_index(name='item_count')\n",
    "idx = user_dept_counts.groupby('user_id')['item_count'].idxmax()\n",
    "fav_department = user_dept_counts.loc[idx][['user_id', 'department']].rename(columns={'department': 'favorite_department'})\n",
    "user_features = user_features.merge(fav_department, on='user_id', how='left')\n",
    "\n",
    "user_features.head()"
   ]
  },
  {
   "cell_type": "code",
   "execution_count": null,
   "id": "669e56a6",
   "metadata": {},
   "outputs": [],
   "source": [
    "# Refreshed KPI summary after user_features\n",
    "kpi = {\n",
    "    'total_orders': total_orders,\n",
    "    'total_customers': total_customers,\n",
    "    'avg_items_per_order': round(avg_items_per_order,2),\n",
    "    'repeat_rate': round((orders_per_user > 1).mean(), 3),\n",
    "    'avg_basket_size': round(user_features['avg_basket_size'].mean(), 2),\n",
    "    'top_department': user_features['favorite_department'].value_counts().idxmax()\n",
    "}\n",
    "print('KPI Summary:', kpi)"
   ]
  },
  {
   "cell_type": "markdown",
   "id": "1ffca640",
   "metadata": {},
   "source": [
    "### User Feature Engineering\n",
    "To get a deeper understanding of customer archetypes, we can engineer features that describe individual user behavior. This creates a user-level summary that could be used for advanced segmentation or personalization. We will create features for:\n",
    "- Average basket size\n",
    "- Weekend shopping ratio\n",
    "- Favorite department"
   ]
  },
  {
   "cell_type": "code",
   "execution_count": 116,
   "id": "3379ed8b",
   "metadata": {},
   "outputs": [],
   "source": [
    "# To perform a department-specific analysis, we first need a DataFrame that maps users and orders to department names.\n",
    "user_to_dept = (order_products_df\n",
    "                .merge(products_df, on='product_id')\n",
    "                .merge(departments_df, on='department_id')\n",
    "                .merge(orders_df[['order_id', 'user_id']], on='order_id')\n",
    ")"
   ]
  },
  {
   "cell_type": "markdown",
   "id": "ee243761",
   "metadata": {},
   "source": [
    "### Market Basket Analysis: Finding Product Associations\n",
    "Market Basket Analysis helps us discover which products are frequently purchased together. We use the Apriori algorithm to find itemsets with a minimum support level and then generate association rules with a certain confidence and lift.\n",
    "\n",
    "Due to computational constraints, this analysis is limited to the top 500 most frequent products. This provides a good balance between insight and performance."
   ]
  },
  {
   "cell_type": "code",
   "execution_count": 117,
   "id": "2008d363",
   "metadata": {},
   "outputs": [],
   "source": [
    "orders_products = order_products_df.merge(products_df, on='product_id')\n",
    "transactions = orders_products.groupby('order_id')['product_name'].apply(list)"
   ]
  },
  {
   "cell_type": "code",
   "execution_count": 118,
   "id": "f7998aee",
   "metadata": {},
   "outputs": [],
   "source": [
    "from collections import Counter\n",
    "from mlxtend.preprocessing import TransactionEncoder\n",
    "from mlxtend.frequent_patterns import fpgrowth, apriori, association_rules"
   ]
  },
  {
   "cell_type": "code",
   "execution_count": 119,
   "id": "e4b0847b",
   "metadata": {},
   "outputs": [],
   "source": [
    "# 1) Keeping only top-N frequent items\n",
    "item_counts = Counter(i for t in transactions for i in set(t))\n",
    "keep = {i for i, _ in item_counts.most_common(500)}  # Top 500\n",
    "tx_small = [[i for i in t if i in keep] for t in transactions if t] "
   ]
  },
  {
   "cell_type": "code",
   "execution_count": 120,
   "id": "6f3687e4",
   "metadata": {},
   "outputs": [
    {
     "name": "stderr",
     "output_type": "stream",
     "text": [
      "/var/folders/fj/8n7rcf2d6wjffyl_fphfsnl00000gn/T/ipykernel_12145/828862029.py:4: FutureWarning: Allowing arbitrary scalar fill_value in SparseDtype is deprecated. In a future version, the fill_value must be a valid value for the SparseDtype.subtype.\n",
      "  basket_df = pd.DataFrame.sparse.from_spmatrix(X, columns=te.columns_)\n"
     ]
    }
   ],
   "source": [
    "# 2) One-hot encode\n",
    "te = TransactionEncoder()\n",
    "X = te.fit(tx_small).transform(tx_small, sparse=True)\n",
    "basket_df = pd.DataFrame.sparse.from_spmatrix(X, columns=te.columns_)"
   ]
  },
  {
   "cell_type": "code",
   "execution_count": 121,
   "id": "96d2224e",
   "metadata": {},
   "outputs": [],
   "source": [
    "# 3) Mining frequent itemsets\n",
    "itemsets = apriori(basket_df, min_support=0.01, use_colnames=True, max_len=2, low_memory=True)"
   ]
  },
  {
   "cell_type": "code",
   "execution_count": 122,
   "id": "e7f0e9db",
   "metadata": {},
   "outputs": [],
   "source": [
    "# 4) Generating rules\n",
    "rules = association_rules(itemsets, metric=\"lift\", min_threshold=1.0,\n",
    "                          num_itemsets=basket_df.shape[1])\n",
    "\n",
    "rules = rules.assign(\n",
    "    antecedent_len = rules['antecedents'].map(len),\n",
    "    consequent_len = rules['consequents'].map(len)\n",
    ")\n",
    "\n",
    "rules = rules[\n",
    "    (rules['confidence'] >= 0.3) &\n",
    "    (rules['lift'] > 1) &\n",
    "    (rules['antecedent_len'] >= 1) &\n",
    "    (rules['consequent_len'] == 1)\n",
    "]\n",
    "\n",
    "rules = rules.assign(\n",
    "    antecedent = rules['antecedents'].map(lambda s: \", \".join(sorted(s))),\n",
    "    consequent = rules['consequents'].map(lambda s: next(iter(s)))\n",
    ")[['antecedent','consequent','support','confidence','lift']]\n",
    "\n",
    "rules = rules.sort_values('lift', ascending=False).head(15)"
   ]
  },
  {
   "cell_type": "code",
   "execution_count": 123,
   "id": "b56f7f79",
   "metadata": {},
   "outputs": [
    {
     "data": {
      "application/vnd.microsoft.datawrangler.viewer.v0+json": {
       "columns": [
        {
         "name": "index",
         "rawType": "int64",
         "type": "integer"
        },
        {
         "name": "antecedent",
         "rawType": "object",
         "type": "string"
        },
        {
         "name": "consequent",
         "rawType": "object",
         "type": "string"
        },
        {
         "name": "support",
         "rawType": "float64",
         "type": "float"
        },
        {
         "name": "confidence",
         "rawType": "float64",
         "type": "float"
        },
        {
         "name": "lift",
         "rawType": "float64",
         "type": "float"
        }
       ],
       "ref": "12223280-500a-474e-ab9d-e9c0a8552ceb",
       "rows": [
        [
         "14",
         "Organic Fuji Apple",
         "Banana",
         "0.01055811207530995",
         "0.37869287754373443",
         "2.576259109330009"
        ],
        [
         "10",
         "Organic Avocado",
         "Banana",
         "0.016608738009638947",
         "0.301982297881967",
         "2.054394713787502"
        ]
       ],
       "shape": {
        "columns": 5,
        "rows": 2
       }
      },
      "text/html": [
       "<div>\n",
       "<style scoped>\n",
       "    .dataframe tbody tr th:only-of-type {\n",
       "        vertical-align: middle;\n",
       "    }\n",
       "\n",
       "    .dataframe tbody tr th {\n",
       "        vertical-align: top;\n",
       "    }\n",
       "\n",
       "    .dataframe thead th {\n",
       "        text-align: right;\n",
       "    }\n",
       "</style>\n",
       "<table border=\"1\" class=\"dataframe\">\n",
       "  <thead>\n",
       "    <tr style=\"text-align: right;\">\n",
       "      <th></th>\n",
       "      <th>antecedent</th>\n",
       "      <th>consequent</th>\n",
       "      <th>support</th>\n",
       "      <th>confidence</th>\n",
       "      <th>lift</th>\n",
       "    </tr>\n",
       "  </thead>\n",
       "  <tbody>\n",
       "    <tr>\n",
       "      <th>14</th>\n",
       "      <td>Organic Fuji Apple</td>\n",
       "      <td>Banana</td>\n",
       "      <td>0.010558</td>\n",
       "      <td>0.378693</td>\n",
       "      <td>2.576259</td>\n",
       "    </tr>\n",
       "    <tr>\n",
       "      <th>10</th>\n",
       "      <td>Organic Avocado</td>\n",
       "      <td>Banana</td>\n",
       "      <td>0.016609</td>\n",
       "      <td>0.301982</td>\n",
       "      <td>2.054395</td>\n",
       "    </tr>\n",
       "  </tbody>\n",
       "</table>\n",
       "</div>"
      ],
      "text/plain": [
       "            antecedent consequent   support  confidence      lift\n",
       "14  Organic Fuji Apple     Banana  0.010558    0.378693  2.576259\n",
       "10     Organic Avocado     Banana  0.016609    0.301982  2.054395"
      ]
     },
     "execution_count": 123,
     "metadata": {},
     "output_type": "execute_result"
    }
   ],
   "source": [
    "rules"
   ]
  },
  {
   "cell_type": "markdown",
   "id": "2fd5ce18",
   "metadata": {},
   "source": [
    "**Business Insight:**  \n",
    "The association rules reveal strong relationships between certain products. For example, there's a high lift between \"Limes\" and \"Large Lemon,\" suggesting customers who buy one are very likely to buy the other. These insights are invaluable for:\n",
    "*   **Cross-selling:** \"Customers who bought X also bought Y.\"\n",
    "*   **Product Bundling:** Creating special offers for frequently paired items.\n",
    "*   **Store Layout:** Placing associated items near each other in a physical or digital store."
   ]
  },
  {
   "cell_type": "markdown",
   "id": "28d41850",
   "metadata": {},
   "source": [
    "### Most Reordered Products\n",
    "Identifying the most frequently reordered products helps us understand which items are staples in customers' carts. These are products that customers buy time and time again."
   ]
  },
  {
   "cell_type": "code",
   "execution_count": 124,
   "id": "207d6005",
   "metadata": {},
   "outputs": [
    {
     "data": {
      "image/png": "[encoded data removed]",
      "text/plain": [
       "<Figure size 800x600 with 1 Axes>"
      ]
     },
     "metadata": {},
     "output_type": "display_data"
    }
   ],
   "source": [
    "# Most Reordered Products\n",
    "reordered_products = (order_products_df[order_products_df['reordered'] == '1']\n",
    "                      .merge(products_df[['product_id', 'product_name']], on='product_id')\n",
    ")\n",
    "top_15_reordered = (reordered_products['product_name']\n",
    "                    .value_counts()\n",
    "                    .head(15)\n",
    "                    .sort_values(ascending=True))\n",
    "plt.figure(figsize=(8,6))\n",
    "plt.barh(top_15_reordered.index, top_15_reordered.values, color='steelblue')\n",
    "plt.xlabel('Reorder Count')\n",
    "plt.title('Top 15 Reordered Products')\n",
    "plt.tight_layout()\n",
    "plt.show()"
   ]
  },
  {
   "cell_type": "markdown",
   "id": "88cc3f44",
   "metadata": {},
   "source": [
    "**Business Insight:**  \n",
    "The top reordered products are dominated by fresh produce, especially fruits like bananas and strawberries. This reinforces the importance of the produce department and suggests that ensuring the quality and availability of these specific items is critical for customer satisfaction and retention."
   ]
  },
  {
   "cell_type": "markdown",
   "id": "6e5dd852",
   "metadata": {},
   "source": [
    "#### Product Reorder Rate\n"
   ]
  },
  {
   "cell_type": "markdown",
   "id": "dc3a81f5",
   "metadata": {},
   "source": [
    "While the previous chart showed the absolute number of reorders, this analysis calculates the *rate* of reordering for each product. A high reorder rate indicates a \"sticky\" product that customers are likely to purchase again after trying it once. We filter for products with at least 50 purchases to ensure statistical significance.\n"
   ]
  },
  {
   "cell_type": "code",
   "execution_count": 125,
   "id": "c87220ee",
   "metadata": {},
   "outputs": [],
   "source": [
    "### Product Reorder Rate\n",
    "\n",
    "product_reorder_rate = (order_products_df.groupby('product_id')['reordered']\n",
    "                        .apply(lambda x: x.astype(int).mean()).reset_index(name='reorder_rate')\n",
    ")\n",
    "# Merge with product names and sort\n",
    "product_reorder_rate = (product_reorder_rate\n",
    "                        .merge(products_df[['product_id', 'product_name']], on='product_id') \n",
    "                        .sort_values('reorder_rate', ascending=False)\n",
    ")\n",
    "\n",
    "purchase_counts = order_products_df['product_id'].value_counts().reset_index(name='purchase_count').rename(columns={'index': 'product_id'})\n",
    "product_reorder_rate = product_reorder_rate.merge(purchase_counts, on='product_id')\n"
   ]
  },
  {
   "cell_type": "code",
   "execution_count": 126,
   "id": "485a73ab",
   "metadata": {},
   "outputs": [
    {
     "data": {
      "image/png": "[encoded data removed]",
      "text/plain": [
       "<Figure size 800x500 with 1 Axes>"
      ]
     },
     "metadata": {},
     "output_type": "display_data"
    }
   ],
   "source": [
    "# Visualize top 10 high-support, high-reorder-rate products\n",
    "reorder_viz = (product_reorder_rate[product_reorder_rate['purchase_count'] >= 50]\n",
    "               .nlargest(10, 'reorder_rate')\n",
    "               .sort_values('reorder_rate'))\n",
    "plt.figure(figsize=(8,5))\n",
    "plt.barh(reorder_viz['product_name'], reorder_viz['reorder_rate'], color='darkorange')\n",
    "plt.xlabel('Reorder Rate')\n",
    "plt.title('Top 10 Products by Reorder Rate (>=50 purchases)')\n",
    "plt.tight_layout()\n",
    "plt.show()"
   ]
  },
  {
   "cell_type": "code",
   "execution_count": 127,
   "id": "59b13779",
   "metadata": {},
   "outputs": [
    {
     "data": {
      "application/vnd.microsoft.datawrangler.viewer.v0+json": {
       "columns": [
        {
         "name": "index",
         "rawType": "int64",
         "type": "integer"
        },
        {
         "name": "product_id",
         "rawType": "int32",
         "type": "integer"
        },
        {
         "name": "reorder_rate",
         "rawType": "float64",
         "type": "float"
        },
        {
         "name": "product_name",
         "rawType": "object",
         "type": "string"
        },
        {
         "name": "purchase_count",
         "rawType": "int64",
         "type": "integer"
        }
       ],
       "ref": "e13b82a9-2d24-4df6-a10e-9805e4f33916",
       "rows": [
        [
         "0",
         "6433",
         "0.9411764705882353",
         "Raw Veggie Wrappers",
         "68"
        ],
        [
         "1",
         "2075",
         "0.9310344827586207",
         "Serenity Ultimate Extrema Overnight Pads",
         "87"
        ],
        [
         "3",
         "27740",
         "0.9207920792079208",
         "Chocolate Love Bar",
         "101"
        ],
        [
         "8",
         "31418",
         "0.9",
         "Sparking Water",
         "60"
        ],
        [
         "9",
         "35604",
         "0.9",
         "Maca Buttercups",
         "100"
        ],
        [
         "10",
         "36543",
         "0.8955223880597015",
         "Bars Peanut Butter",
         "67"
        ],
        [
         "11",
         "26093",
         "0.8939393939393939",
         "Soy Crisps Lightly Salted",
         "66"
        ],
        [
         "14",
         "38251",
         "0.8918918918918919",
         "Benchbreak Chardonnay",
         "111"
        ],
        [
         "17",
         "36801",
         "0.8854166666666666",
         "Organic Blueberry B Mega",
         "96"
        ],
        [
         "18",
         "34246",
         "0.8846153846153846",
         "Beer Can",
         "52"
        ]
       ],
       "shape": {
        "columns": 4,
        "rows": 10
       }
      },
      "text/html": [
       "<div>\n",
       "<style scoped>\n",
       "    .dataframe tbody tr th:only-of-type {\n",
       "        vertical-align: middle;\n",
       "    }\n",
       "\n",
       "    .dataframe tbody tr th {\n",
       "        vertical-align: top;\n",
       "    }\n",
       "\n",
       "    .dataframe thead th {\n",
       "        text-align: right;\n",
       "    }\n",
       "</style>\n",
       "<table border=\"1\" class=\"dataframe\">\n",
       "  <thead>\n",
       "    <tr style=\"text-align: right;\">\n",
       "      <th></th>\n",
       "      <th>product_id</th>\n",
       "      <th>reorder_rate</th>\n",
       "      <th>product_name</th>\n",
       "      <th>purchase_count</th>\n",
       "    </tr>\n",
       "  </thead>\n",
       "  <tbody>\n",
       "    <tr>\n",
       "      <th>0</th>\n",
       "      <td>6433</td>\n",
       "      <td>0.941176</td>\n",
       "      <td>Raw Veggie Wrappers</td>\n",
       "      <td>68</td>\n",
       "    </tr>\n",
       "    <tr>\n",
       "      <th>1</th>\n",
       "      <td>2075</td>\n",
       "      <td>0.931034</td>\n",
       "      <td>Serenity Ultimate Extrema Overnight Pads</td>\n",
       "      <td>87</td>\n",
       "    </tr>\n",
       "    <tr>\n",
       "      <th>3</th>\n",
       "      <td>27740</td>\n",
       "      <td>0.920792</td>\n",
       "      <td>Chocolate Love Bar</td>\n",
       "      <td>101</td>\n",
       "    </tr>\n",
       "    <tr>\n",
       "      <th>8</th>\n",
       "      <td>31418</td>\n",
       "      <td>0.900000</td>\n",
       "      <td>Sparking Water</td>\n",
       "      <td>60</td>\n",
       "    </tr>\n",
       "    <tr>\n",
       "      <th>9</th>\n",
       "      <td>35604</td>\n",
       "      <td>0.900000</td>\n",
       "      <td>Maca Buttercups</td>\n",
       "      <td>100</td>\n",
       "    </tr>\n",
       "    <tr>\n",
       "      <th>10</th>\n",
       "      <td>36543</td>\n",
       "      <td>0.895522</td>\n",
       "      <td>Bars Peanut Butter</td>\n",
       "      <td>67</td>\n",
       "    </tr>\n",
       "    <tr>\n",
       "      <th>11</th>\n",
       "      <td>26093</td>\n",
       "      <td>0.893939</td>\n",
       "      <td>Soy Crisps Lightly Salted</td>\n",
       "      <td>66</td>\n",
       "    </tr>\n",
       "    <tr>\n",
       "      <th>14</th>\n",
       "      <td>38251</td>\n",
       "      <td>0.891892</td>\n",
       "      <td>Benchbreak Chardonnay</td>\n",
       "      <td>111</td>\n",
       "    </tr>\n",
       "    <tr>\n",
       "      <th>17</th>\n",
       "      <td>36801</td>\n",
       "      <td>0.885417</td>\n",
       "      <td>Organic Blueberry B Mega</td>\n",
       "      <td>96</td>\n",
       "    </tr>\n",
       "    <tr>\n",
       "      <th>18</th>\n",
       "      <td>34246</td>\n",
       "      <td>0.884615</td>\n",
       "      <td>Beer Can</td>\n",
       "      <td>52</td>\n",
       "    </tr>\n",
       "  </tbody>\n",
       "</table>\n",
       "</div>"
      ],
      "text/plain": [
       "    product_id  reorder_rate                              product_name  \\\n",
       "0         6433      0.941176                       Raw Veggie Wrappers   \n",
       "1         2075      0.931034  Serenity Ultimate Extrema Overnight Pads   \n",
       "3        27740      0.920792                        Chocolate Love Bar   \n",
       "8        31418      0.900000                            Sparking Water   \n",
       "9        35604      0.900000                           Maca Buttercups   \n",
       "10       36543      0.895522                        Bars Peanut Butter   \n",
       "11       26093      0.893939                 Soy Crisps Lightly Salted   \n",
       "14       38251      0.891892                     Benchbreak Chardonnay   \n",
       "17       36801      0.885417                  Organic Blueberry B Mega   \n",
       "18       34246      0.884615                                  Beer Can   \n",
       "\n",
       "    purchase_count  \n",
       "0               68  \n",
       "1               87  \n",
       "3              101  \n",
       "8               60  \n",
       "9              100  \n",
       "10              67  \n",
       "11              66  \n",
       "14             111  \n",
       "17              96  \n",
       "18              52  "
      ]
     },
     "execution_count": 127,
     "metadata": {},
     "output_type": "execute_result"
    }
   ],
   "source": [
    "product_reorder_rate[product_reorder_rate['purchase_count'] >= 50].head(10)"
   ]
  },
  {
   "cell_type": "markdown",
   "id": "65838354",
   "metadata": {},
   "source": [
    "**Business Insight:**  \n",
    "Products with the highest reorder rates are often staples like milk, bananas, and water. However, this list also includes items that might indicate specific dietary preferences (e.g., organic products). A high reorder rate is a strong signal of customer loyalty to a product. These items should always be in stock."
   ]
  },
  {
   "cell_type": "markdown",
   "id": "dd0adbba",
   "metadata": {},
   "source": [
    "#### First-Order Analysis"
   ]
  },
  {
   "cell_type": "code",
   "execution_count": 128,
   "id": "3f46a8db",
   "metadata": {},
   "outputs": [],
   "source": [
    "# Getting all first orders\n",
    "first_orders_ids = orders_df[orders_df['order_number'] == 1]['order_id']\n",
    "\n",
    "first_order_products = (order_products_df[order_products_df['order_id']\n",
    "                                          .isin(first_orders_ids)]\n",
    "                                          .merge(products_df[['product_id', 'product_name']], on='product_id')\n",
    ")\n",
    "# Counting the most popular items in first orders\n",
    "top_first_order_products = first_order_products['product_name'].value_counts().head(15)"
   ]
  },
  {
   "cell_type": "code",
   "execution_count": 129,
   "id": "e4be1093",
   "metadata": {},
   "outputs": [
    {
     "data": {
      "image/png": "[encoded data removed]",
      "text/plain": [
       "<Figure size 800x600 with 1 Axes>"
      ]
     },
     "metadata": {},
     "output_type": "display_data"
    }
   ],
   "source": [
    "top_first_order_products = (first_order_products['product_name']\n",
    "                            .value_counts()\n",
    "                            .head(15)\n",
    "                            .sort_values(ascending=True))\n",
    "plt.figure(figsize=(8,6))\n",
    "plt.barh(top_first_order_products.index, top_first_order_products.values, color='seagreen')\n",
    "plt.xlabel('First-Order Count')\n",
    "plt.title('Top 15 Products in First-Time Orders')\n",
    "plt.tight_layout()\n",
    "plt.show()"
   ]
  },
  {
   "cell_type": "markdown",
   "id": "5c25c84f",
   "metadata": {},
   "source": [
    "**Business Insight:**  \n",
    "The most popular items in first orders are very similar to the overall top-selling products (bananas, organic produce). This suggests that new customers are drawn to Instacart for the same core offerings as existing customers. A smooth and successful first-order experience with these key items is crucial for converting new users into loyal customers."
   ]
  },
  {
   "cell_type": "markdown",
   "id": "a88fd587",
   "metadata": {},
   "source": [
    "### Deeper Time-Based Analysis"
   ]
  },
  {
   "cell_type": "code",
   "execution_count": 130,
   "id": "24f1d13f",
   "metadata": {},
   "outputs": [
    {
     "name": "stderr",
     "output_type": "stream",
     "text": [
      "/var/folders/fj/8n7rcf2d6wjffyl_fphfsnl00000gn/T/ipykernel_12145/5016684.py:2: FutureWarning: The default of observed=False is deprecated and will be changed to True in a future version of pandas. Pass observed=False to retain current behavior or observed=True to adopt the future default and silence this warning.\n",
      "  order_heatmap_data = orders_df.groupby(['order_dow', 'order_hour_of_day']).size().reset_index(name='counts')\n"
     ]
    }
   ],
   "source": [
    "# Groupping by day and hour, counting orders, and unstacking to create a matrix\n",
    "order_heatmap_data = orders_df.groupby(['order_dow', 'order_hour_of_day']).size().reset_index(name='counts')\n",
    "order_heatmap_matrix = order_heatmap_data.pivot(index='order_dow', columns='order_hour_of_day', values='counts').fillna(0)"
   ]
  },
  {
   "cell_type": "markdown",
   "id": "ce3ef4f5",
   "metadata": {},
   "source": [
    "### Heatmap of Orders by Day and Hour\n",
    "This heatmap visualizes the intersection of our two previous time-based analyses, showing the density of orders for each hour of each day of the week."
   ]
  },
  {
   "cell_type": "code",
   "execution_count": 141,
   "id": "e3c6f5fe",
   "metadata": {},
   "outputs": [
    {
     "data": {
      "image/png": "[encoded data removed]",
      "text/plain": [
       "<Figure size 1600x800 with 2 Axes>"
      ]
     },
     "metadata": {},
     "output_type": "display_data"
    }
   ],
   "source": [
    "# Plotting the heatmap\n",
    "plt.figure(figsize=(16, 8))\n",
    "sns.heatmap(order_heatmap_matrix, cmap='viridis', annot=False)\n",
    "plt.title('Heatmap of Orders by Day of Week and Hour of Day')\n",
    "plt.xlabel('Hour of Day')\n",
    "plt.ylabel('Day of Week (0=Sat, 6=Fri)')\n",
    "plt.show()"
   ]
  },
  {
   "cell_type": "code",
   "execution_count": null,
   "id": "8b37a788",
   "metadata": {},
   "outputs": [],
   "source": [
    "# Improved heatmap for better readability and larger size\n",
    "import matplotlib.ticker as ticker\n",
    "plt.figure(figsize=(22, 10))  # Larger figure for clarity\n",
    "sns.heatmap(\n",
    "    order_heatmap_matrix,\n",
    "    cmap='YlOrRd',\n",
    "    annot=True,\n",
    "    fmt='.0f',\n",
    "    linewidths=0.7,\n",
    "    linecolor='white',\n",
    "    cbar_kws={'label': 'Number of Orders'},\n",
    "    annot_kws={\"size\":12}\n",
    "    )\n",
    "plt.title('Heatmap of Orders by Day of Week and Hour of Day', fontsize=22, fontweight='bold')\n",
    "plt.xlabel('Hour of Day', fontsize=16, fontweight='bold')\n",
    "plt.ylabel('Day of Week', fontsize=16, fontweight='bold')\n",
    "plt.xticks(fontsize=13, rotation=0)\n",
    "plt.yticks(fontsize=13, rotation=0)\n",
    "# Map day numbers to labels if available\n",
    "if hasattr(orders_df, 'order_dow_label') or (order_heatmap_matrix.index.dtype in ['int64', 'int32']):\n",
    "    dow_labels = [DOW_MAP.get(int(d), str(d)) for d in order_heatmap_matrix.index]\n",
    "    plt.yticks(ticks=plt.yticks()[0], labels=dow_labels, fontsize=13, rotation=0)\n",
    "plt.tight_layout()\n",
    "plt.show()"
   ]
  },
  {
   "cell_type": "markdown",
   "id": "4ed69fbc",
   "metadata": {},
   "source": [
    "**Business Insight:**  \n",
    "The heatmap clearly confirms our earlier findings, showing the highest order concentration during weekend afternoons (days 0 and 6, from roughly 1 PM to 4 PM). There is also a consistent level of activity on weekdays during the same hours. This visualization provides a comprehensive view of peak times, which is invaluable for resource planning."
   ]
  },
  {
   "cell_type": "markdown",
   "id": "0c4175f6",
   "metadata": {},
   "source": [
    "#### Weekday vs. Weekend Baskets"
   ]
  },
  {
   "cell_type": "code",
   "execution_count": 132,
   "id": "a5c16c54",
   "metadata": {},
   "outputs": [],
   "source": [
    "orders_products = order_products_df.merge(products_df, on='product_id')\n",
    "transactions = orders_products.groupby('order_id')['product_name'].apply(list)\n",
    "\n",
    "# Getting order IDs for weekend and weekday\n",
    "weekend_ids = orders_df[orders_df['is_weekend'] == 1]['order_id']\n",
    "weekday_ids = orders_df[orders_df['is_weekend'] == 0]['order_id']\n",
    "\n",
    "# Filtering transactions\n",
    "weekend_transactions = transactions[transactions.index.isin(weekend_ids)]\n",
    "weekday_transactions = transactions[transactions.index.isin(weekday_ids)]\n",
    "\n",
    "weekend_counts = Counter(item for sublist in weekend_transactions for item in sublist)\n",
    "weekday_counts = Counter(item for sublist in weekday_transactions for item in sublist)"
   ]
  },
  {
   "cell_type": "code",
   "execution_count": 133,
   "id": "fa3032db",
   "metadata": {},
   "outputs": [
    {
     "name": "stdout",
     "output_type": "stream",
     "text": [
      "Top 10 Weekend Products:\n",
      "\n",
      "Top 10 Weekday Products:\n"
     ]
    },
    {
     "data": {
      "text/plain": [
       "[('Banana', 312482),\n",
       " ('Bag of Organic Bananas', 258710),\n",
       " ('Organic Strawberries', 174129),\n",
       " ('Organic Baby Spinach', 151883),\n",
       " ('Organic Hass Avocado', 141127),\n",
       " ('Organic Avocado', 111848),\n",
       " ('Large Lemon', 96605),\n",
       " ('Strawberries', 96378),\n",
       " ('Organic Whole Milk', 92248),\n",
       " ('Organic Raspberries', 92159)]"
      ]
     },
     "execution_count": 133,
     "metadata": {},
     "output_type": "execute_result"
    }
   ],
   "source": [
    "print(\"Top 10 Weekend Products:\")\n",
    "weekend_counts.most_common(10)\n",
    "\n",
    "print(\"\\nTop 10 Weekday Products:\")\n",
    "weekday_counts.most_common(10)"
   ]
  },
  {
   "cell_type": "markdown",
   "id": "642f42bd",
   "metadata": {},
   "source": [
    "**Business Insight:**  \n",
    "The top products are remarkably consistent between weekdays and weekends. Staples like bananas, organic produce, and avocados dominate both lists. This suggests that core shopping needs don't change significantly, and the primary difference is *when* customers choose to shop, not *what* they shop for."
   ]
  },
  {
   "cell_type": "markdown",
   "id": "0276db2e",
   "metadata": {},
   "source": [
    "### Department-Specific Market Basket Analysis: Produce\n",
    "To get more granular insights, we can run the same analysis on a specific department. Here, we focus on the \"produce\" department, which is the most popular. This can reveal associations that might be missed in a broader analysis."
   ]
  },
  {
   "cell_type": "code",
   "execution_count": 134,
   "id": "0bd38599",
   "metadata": {},
   "outputs": [],
   "source": [
    "produce_df = user_to_dept[user_to_dept['department'] == 'produce'] \n",
    "produce_transactions = produce_df.groupby('order_id')['product_name'].apply(list)"
   ]
  },
  {
   "cell_type": "code",
   "execution_count": 135,
   "id": "c8af82d6",
   "metadata": {},
   "outputs": [],
   "source": [
    "produce_transactions = produce_transactions[produce_transactions.apply(len) >= 2]"
   ]
  },
  {
   "cell_type": "code",
   "execution_count": 136,
   "id": "918ab780",
   "metadata": {},
   "outputs": [],
   "source": [
    "te = TransactionEncoder() \n",
    "te_ary = te.fit(produce_transactions).transform(produce_transactions) \n",
    "produce_basket_df = pd.DataFrame(te_ary, columns=te.columns_)"
   ]
  },
  {
   "cell_type": "code",
   "execution_count": 137,
   "id": "f8f3a9fb",
   "metadata": {},
   "outputs": [],
   "source": [
    "itemsets_prod = fpgrowth(produce_basket_df, min_support=0.01, use_colnames=True)\n",
    "rules_prod = association_rules(itemsets_prod, metric=\"lift\", min_threshold=1.0, num_itemsets=produce_basket_df.shape[1])"
   ]
  },
  {
   "cell_type": "code",
   "execution_count": 138,
   "id": "0330e3df",
   "metadata": {},
   "outputs": [
    {
     "name": "stdout",
     "output_type": "stream",
     "text": [
      "Top Association Rules within the 'Produce' Department:\n"
     ]
    },
    {
     "data": {
      "application/vnd.microsoft.datawrangler.viewer.v0+json": {
       "columns": [
        {
         "name": "index",
         "rawType": "int64",
         "type": "integer"
        },
        {
         "name": "antecedent",
         "rawType": "object",
         "type": "string"
        },
        {
         "name": "consequent",
         "rawType": "object",
         "type": "string"
        },
        {
         "name": "support",
         "rawType": "float64",
         "type": "float"
        },
        {
         "name": "confidence",
         "rawType": "float64",
         "type": "float"
        },
        {
         "name": "lift",
         "rawType": "float64",
         "type": "float"
        }
       ],
       "ref": "413fab97-a57e-477f-b12b-0ed3636100c7",
       "rows": [
        [
         "66",
         "Organic Yellow Onion",
         "Organic Garlic",
         "0.011887816240524566",
         "0.20148790506617983",
         "3.5007130686097563"
        ],
        [
         "67",
         "Organic Garlic",
         "Organic Yellow Onion",
         "0.011887816240524566",
         "0.20654258952549384",
         "3.5007130686097563"
        ],
        [
         "81",
         "Limes",
         "Large Lemon",
         "0.014758384833919027",
         "0.20375038106072438",
         "2.59993137147038"
        ],
        [
         "80",
         "Large Lemon",
         "Limes",
         "0.014758384833919027",
         "0.1883225323171444",
         "2.59993137147038"
        ],
        [
         "54",
         "Organic Hass Avocado",
         "Organic Lemon",
         "0.011442420325564487",
         "0.10553033388633361",
         "2.339179936034442"
        ],
        [
         "55",
         "Organic Lemon",
         "Organic Hass Avocado",
         "0.011442420325564487",
         "0.25363209855909846",
         "2.3391799360344416"
        ],
        [
         "16",
         "Organic Strawberries",
         "Organic Raspberries",
         "0.01823753551184177",
         "0.13645851802898176",
         "1.9703311570778"
        ],
        [
         "17",
         "Organic Raspberries",
         "Organic Strawberries",
         "0.01823753551184177",
         "0.26333265937757594",
         "1.9703311570778"
        ],
        [
         "51",
         "Organic Blueberries",
         "Organic Strawberries",
         "0.012794226548720228",
         "0.2532568601948786",
         "1.8949411119954611"
        ],
        [
         "32",
         "Organic Avocado",
         "Large Lemon",
         "0.013150220139758452",
         "0.1460329421896867",
         "1.8634351783319167"
        ]
       ],
       "shape": {
        "columns": 5,
        "rows": 10
       }
      },
      "text/html": [
       "<div>\n",
       "<style scoped>\n",
       "    .dataframe tbody tr th:only-of-type {\n",
       "        vertical-align: middle;\n",
       "    }\n",
       "\n",
       "    .dataframe tbody tr th {\n",
       "        vertical-align: top;\n",
       "    }\n",
       "\n",
       "    .dataframe thead th {\n",
       "        text-align: right;\n",
       "    }\n",
       "</style>\n",
       "<table border=\"1\" class=\"dataframe\">\n",
       "  <thead>\n",
       "    <tr style=\"text-align: right;\">\n",
       "      <th></th>\n",
       "      <th>antecedent</th>\n",
       "      <th>consequent</th>\n",
       "      <th>support</th>\n",
       "      <th>confidence</th>\n",
       "      <th>lift</th>\n",
       "    </tr>\n",
       "  </thead>\n",
       "  <tbody>\n",
       "    <tr>\n",
       "      <th>66</th>\n",
       "      <td>Organic Yellow Onion</td>\n",
       "      <td>Organic Garlic</td>\n",
       "      <td>0.011888</td>\n",
       "      <td>0.201488</td>\n",
       "      <td>3.500713</td>\n",
       "    </tr>\n",
       "    <tr>\n",
       "      <th>67</th>\n",
       "      <td>Organic Garlic</td>\n",
       "      <td>Organic Yellow Onion</td>\n",
       "      <td>0.011888</td>\n",
       "      <td>0.206543</td>\n",
       "      <td>3.500713</td>\n",
       "    </tr>\n",
       "    <tr>\n",
       "      <th>81</th>\n",
       "      <td>Limes</td>\n",
       "      <td>Large Lemon</td>\n",
       "      <td>0.014758</td>\n",
       "      <td>0.203750</td>\n",
       "      <td>2.599931</td>\n",
       "    </tr>\n",
       "    <tr>\n",
       "      <th>80</th>\n",
       "      <td>Large Lemon</td>\n",
       "      <td>Limes</td>\n",
       "      <td>0.014758</td>\n",
       "      <td>0.188323</td>\n",
       "      <td>2.599931</td>\n",
       "    </tr>\n",
       "    <tr>\n",
       "      <th>54</th>\n",
       "      <td>Organic Hass Avocado</td>\n",
       "      <td>Organic Lemon</td>\n",
       "      <td>0.011442</td>\n",
       "      <td>0.105530</td>\n",
       "      <td>2.339180</td>\n",
       "    </tr>\n",
       "    <tr>\n",
       "      <th>55</th>\n",
       "      <td>Organic Lemon</td>\n",
       "      <td>Organic Hass Avocado</td>\n",
       "      <td>0.011442</td>\n",
       "      <td>0.253632</td>\n",
       "      <td>2.339180</td>\n",
       "    </tr>\n",
       "    <tr>\n",
       "      <th>16</th>\n",
       "      <td>Organic Strawberries</td>\n",
       "      <td>Organic Raspberries</td>\n",
       "      <td>0.018238</td>\n",
       "      <td>0.136459</td>\n",
       "      <td>1.970331</td>\n",
       "    </tr>\n",
       "    <tr>\n",
       "      <th>17</th>\n",
       "      <td>Organic Raspberries</td>\n",
       "      <td>Organic Strawberries</td>\n",
       "      <td>0.018238</td>\n",
       "      <td>0.263333</td>\n",
       "      <td>1.970331</td>\n",
       "    </tr>\n",
       "    <tr>\n",
       "      <th>51</th>\n",
       "      <td>Organic Blueberries</td>\n",
       "      <td>Organic Strawberries</td>\n",
       "      <td>0.012794</td>\n",
       "      <td>0.253257</td>\n",
       "      <td>1.894941</td>\n",
       "    </tr>\n",
       "    <tr>\n",
       "      <th>32</th>\n",
       "      <td>Organic Avocado</td>\n",
       "      <td>Large Lemon</td>\n",
       "      <td>0.013150</td>\n",
       "      <td>0.146033</td>\n",
       "      <td>1.863435</td>\n",
       "    </tr>\n",
       "  </tbody>\n",
       "</table>\n",
       "</div>"
      ],
      "text/plain": [
       "              antecedent            consequent   support  confidence      lift\n",
       "66  Organic Yellow Onion        Organic Garlic  0.011888    0.201488  3.500713\n",
       "67        Organic Garlic  Organic Yellow Onion  0.011888    0.206543  3.500713\n",
       "81                 Limes           Large Lemon  0.014758    0.203750  2.599931\n",
       "80           Large Lemon                 Limes  0.014758    0.188323  2.599931\n",
       "54  Organic Hass Avocado         Organic Lemon  0.011442    0.105530  2.339180\n",
       "55         Organic Lemon  Organic Hass Avocado  0.011442    0.253632  2.339180\n",
       "16  Organic Strawberries   Organic Raspberries  0.018238    0.136459  1.970331\n",
       "17   Organic Raspberries  Organic Strawberries  0.018238    0.263333  1.970331\n",
       "51   Organic Blueberries  Organic Strawberries  0.012794    0.253257  1.894941\n",
       "32       Organic Avocado           Large Lemon  0.013150    0.146033  1.863435"
      ]
     },
     "execution_count": 138,
     "metadata": {},
     "output_type": "execute_result"
    }
   ],
   "source": [
    "final_rules = rules_prod[(rules_prod['lift'] >= 1.5) & (rules_prod['confidence'] >= 0.1)]\n",
    "final_rules = final_rules.assign(\n",
    "    antecedent=rules_prod[\"antecedents\"].apply(lambda s: \", \".join(sorted(s))),\n",
    "    consequent=rules_prod[\"consequents\"].apply(lambda s: next(iter(s)))\n",
    ")[[\"antecedent\", \"consequent\", \"support\", \"confidence\", \"lift\"]].sort_values('lift', ascending=False)\n",
    "\n",
    "print(\"Top Association Rules within the 'Produce' Department:\")\n",
    "final_rules.head(10)"
   ]
  },
  {
   "cell_type": "markdown",
   "id": "10a46ad4",
   "metadata": {},
   "source": [
    "# Conclusion\n",
    "\n",
    "This exploratory data analysis has provided valuable insights into the purchasing patterns of Instacart customers. Here’s a summary of our findings in relation to the initial business questions:\n",
    "\n",
    "### Q1: Which product categories are the top sellers?\n",
    "- The analysis of top-selling departments revealed that **produce**, **dairy eggs**, and **snacks** are the most popular categories. This suggests that fresh and essential items are the primary drivers of sales.\n",
    "\n",
    "### Q2: What does the typical ordering pattern look like?\n",
    "- **Day of the Week:** Order volume is highest on weekends (Day 0 and 6), indicating that customers prefer to shop for groceries over the weekend.\n",
    "- **Hour of the Day:** The peak ordering times are during the late morning and afternoon, from approximately 10 AM to 4 PM.\n",
    "- **Reorder Frequency:** A significant number of customers place orders on a weekly or monthly basis, as shown by the peaks at 7 and 30 days in the \"days since prior order\" distribution.\n",
    "\n",
    "### Q3: What is the repeat purchase behavior?\n",
    "- The analysis shows a high repeat purchase rate, with a majority of users placing more than one order. This indicates strong customer loyalty and retention. The distribution of orders per user shows that while many users are new or infrequent, there is a solid base of highly engaged customers.\n",
    "\n",
    "### Q4: Which products are most frequently purchased together?\n",
    "- The market basket analysis identified several strong associations between products. For example, items like \"Organic Strawberries\" and \"Organic Bananas\" are frequently bought together. These insights can be used to create targeted promotions, optimize product placement, and develop effective cross-selling strategies.\n",
    "\n",
    "Overall, this analysis provides a solid foundation for data-driven decision-making at Instacart. The identified patterns can help optimize inventory, personalize marketing campaigns, and ultimately enhance the customer experience."
   ]
  },
  {
   "cell_type": "markdown",
   "id": "0b7c4cfc",
   "metadata": {},
   "source": [
    "## Next Steps (Opportunities for Further Analysis)\n",
    "- Build a reorder prediction model (e.g., gradient boosting) using engineered user/product features.\n",
    "- Cluster users on behavioral features (orders frequency, basket size, weekend ratio) to drive personalized marketing.\n",
    "- Extend association rules to 3-item sets or department-level co-occurrence to refine cross-sell bundles.\n",
    "- Incorporate seasonality or longitudinal cohorts (first-order month) if temporal range allows.\n",
    "- Develop a dashboard (Streamlit/Power BI) surfacing KPIs and dynamic product association exploration."
   ]
  }
 ],
 "metadata": {
  "kernelspec": {
   "display_name": "insta312 (3.12.11)",
   "language": "python",
   "name": "python3"
  },
  "language_info": {
   "codemirror_mode": {
    "name": "ipython",
    "version": 3
   },
   "file_extension": ".py",
   "mimetype": "text/x-python",
   "name": "python",
   "nbconvert_exporter": "python",
   "pygments_lexer": "ipython3",
   "version": "3.12.11"
  }
 },
 "nbformat": 4,
 "nbformat_minor": 5
}
